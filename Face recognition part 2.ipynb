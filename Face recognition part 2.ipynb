{
 "cells": [
  {
   "cell_type": "code",
   "execution_count": 6,
   "metadata": {},
   "outputs": [],
   "source": [
    "#Importing Libraries\n",
    "import numpy as np\n",
    "from PIL import Image\n",
    "import os\n",
    "import cv2\n",
    "import pathlib"
   ]
  },
  {
   "cell_type": "code",
   "execution_count": 7,
   "metadata": {},
   "outputs": [],
   "source": [
    "#Creating an object of LBPHFaceRecognizer for detecting faces\n",
    "recognizer = cv2.face.LBPHFaceRecognizer_create()"
   ]
  },
  {
   "cell_type": "code",
   "execution_count": 8,
   "metadata": {},
   "outputs": [],
   "source": [
    "#path to captured Images for training\n",
    "path ='~/Dataset'"
   ]
  },
  {
   "cell_type": "code",
   "execution_count": 13,
   "metadata": {},
   "outputs": [],
   "source": [
    "#Defining a function to train faces of a specific user\n",
    "def getImageswithID(path):\n",
    "    imagespath= [os.path.join(path,f) for f in os.listdir(path)]\n",
    "    \n",
    "    \n",
    "    faces = []\n",
    "    Ids = []\n",
    "    for imagepath in imagespath:\n",
    "        if os.path.basename(imagepath).startswith(\".\"):\n",
    "            continue\n",
    "        \n",
    "        faceimg= Image.open(imagepath).convert('L')\n",
    "        facenp = np.array(faceimg,'uint8')\n",
    "        ID =int(os.path.split(imagepath)[-1].split('.')[1])\n",
    "        faces.append(facenp)\n",
    "        Ids.append(ID)\n",
    "        cv2.imshow(\"Training\", facenp)\n",
    "        cv2.waitKey(10)\n",
    "    return Ids, faces\n",
    "\n",
    "Ids,faces =  getImageswithID(path)\n",
    "recognizer.train(faces, np.array(Ids))\n",
    "recognizer.save('./trainingdata.yml')\n",
    "cv2.destroyAllWindows()\n",
    "\n",
    "        \n",
    "    "
   ]
  },
  {
   "cell_type": "code",
   "execution_count": null,
   "metadata": {},
   "outputs": [],
   "source": []
  }
 ],
 "metadata": {
  "kernelspec": {
   "display_name": "Python 3",
   "language": "python",
   "name": "python3"
  },
  "language_info": {
   "codemirror_mode": {
    "name": "ipython",
    "version": 3
   },
   "file_extension": ".py",
   "mimetype": "text/x-python",
   "name": "python",
   "nbconvert_exporter": "python",
   "pygments_lexer": "ipython3",
   "version": "3.6.5"
  }
 },
 "nbformat": 4,
 "nbformat_minor": 2
}
