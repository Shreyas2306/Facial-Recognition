{
 "cells": [
  {
   "cell_type": "code",
   "execution_count": 1,
   "metadata": {},
   "outputs": [
    {
     "name": "stdout",
     "output_type": "stream",
     "text": [
      "Enter the user id1\n"
     ]
    }
   ],
   "source": [
    "#Importing libraries\n",
    "import cv2\n",
    "import sys\n",
    "#imagePath = sys.argv[1]\n",
    "\n",
    "#Importing haarcascade_frontalface_default.xml\n",
    "cascPath = './haarcascade_frontalface_default.xml'\n",
    "faceCascade = cv2.CascadeClassifier(cascPath)\n",
    "\n",
    "#Initialing Video Capturing for capturing faces\n",
    "video_capture = cv2.VideoCapture(0)\n",
    "\n",
    "#Storing Ids for specific user\n",
    "id = input(\"Enter the user id : \")\n",
    "\n",
    "#Initialising samplenum to 0\n",
    "samplenum = 0\n",
    "\n",
    "while True:\n",
    "    \n",
    "    #Capture frame-by-frame\n",
    "    ret, frame = video_capture.read()\n",
    "    \n",
    "    #Converting image to gray scale\n",
    "    gray = cv2.cvtColor(frame, cv2.COLOR_BGR2GRAY)\n",
    "    faces = faceCascade.detectMultiScale(gray, 1.1, 5)\n",
    "    for (x, y, w, h) in faces:\n",
    "        samplenum+=1\n",
    "        #Storing the Captured images in a folder\n",
    "        cv2.imwrite(\"./DataSet/user.\"+id+'.'+str(samplenum)+\".jpg\",gray[y:y+h,x:x+w])\n",
    "        \n",
    "        cv2.rectangle(frame, (x, y), (x+w, y+h), (0, 255, 0), 2)\n",
    "        cv2.waitKey(100)\n",
    "\n",
    "    # Display the resulting frame\n",
    "        cv2.imshow('faces', frame)\n",
    "        cv2.waitKey(1)\n",
    "    if (samplenum >20):\n",
    "        break\n",
    "        video_capture.release()\n",
    "        cv2.destroyAllWindows()\n",
    "            \n",
    "\n",
    "    \n",
    "\n",
    "# When everything is done, release the capture\n",
    "video_capture.release()\n",
    "cv2.destroyAllWindows()\n",
    "\n",
    "\n"
   ]
  },
  {
   "cell_type": "code",
   "execution_count": 3,
   "metadata": {},
   "outputs": [],
   "source": []
  }
 ],
 "metadata": {
  "kernelspec": {
   "display_name": "Python 3",
   "language": "python",
   "name": "python3"
  },
  "language_info": {
   "codemirror_mode": {
    "name": "ipython",
    "version": 3
   },
   "file_extension": ".py",
   "mimetype": "text/x-python",
   "name": "python",
   "nbconvert_exporter": "python",
   "pygments_lexer": "ipython3",
   "version": "3.6.5"
  }
 },
 "nbformat": 4,
 "nbformat_minor": 2
}
